{
  "nbformat": 4,
  "nbformat_minor": 0,
  "metadata": {
    "colab": {
      "name": "MonitoriaRR_01.ipynb",
      "provenance": []
    },
    "kernelspec": {
      "name": "python3",
      "display_name": "Python 3"
    },
    "language_info": {
      "name": "python"
    }
  },
  "cells": [
    {
      "cell_type": "code",
      "execution_count": 1,
      "metadata": {
        "id": "Eb5xEaq6RvhI"
      },
      "outputs": [],
      "source": [
        "import numpy as np\n",
        "\n",
        "\n",
        "def relacion_recurrencia(n : int):\n",
        "  # Definir el caso base. f(0) = 8, f(1) = 1/(2*\\sqrt{2})\n",
        "  if n == 0:\n",
        "    return 8.0\n",
        "  elif n == 1:\n",
        "    return 2**(-3/2) \n",
        "  return np.sqrt(relacion_recurrencia(n-2)/relacion_recurrencia(n-1))\n",
        "\n",
        "def no_recurrencia(n : int):\n",
        "  return 2**(0.5**n + 2*(-1)**n)"
      ]
    },
    {
      "cell_type": "code",
      "source": [
        "for n in range(11):\n",
        "  print(f'n={n}.\\t Resultado de la RR: {np.round(relacion_recurrencia(n), 3)}.\\tResultado Expresión cerrada: {np.round(no_recurrencia(n), 3)}.')"
      ],
      "metadata": {
        "colab": {
          "base_uri": "https://localhost:8080/"
        },
        "id": "tvPjO6GISZUN",
        "outputId": "7e842e7a-9935-4447-8eb9-69e7522fd08e"
      },
      "execution_count": 2,
      "outputs": [
        {
          "output_type": "stream",
          "name": "stdout",
          "text": [
            "n=0.\t Resultado de la RR: 8.0.\tResultado Expresión cerrada: 8.0.\n",
            "n=1.\t Resultado de la RR: 0.354.\tResultado Expresión cerrada: 0.354.\n",
            "n=2.\t Resultado de la RR: 4.757.\tResultado Expresión cerrada: 4.757.\n",
            "n=3.\t Resultado de la RR: 0.273.\tResultado Expresión cerrada: 0.273.\n",
            "n=4.\t Resultado de la RR: 4.177.\tResultado Expresión cerrada: 4.177.\n",
            "n=5.\t Resultado de la RR: 0.255.\tResultado Expresión cerrada: 0.255.\n",
            "n=6.\t Resultado de la RR: 4.044.\tResultado Expresión cerrada: 4.044.\n",
            "n=7.\t Resultado de la RR: 0.251.\tResultado Expresión cerrada: 0.251.\n",
            "n=8.\t Resultado de la RR: 4.011.\tResultado Expresión cerrada: 4.011.\n",
            "n=9.\t Resultado de la RR: 0.25.\tResultado Expresión cerrada: 0.25.\n",
            "n=10.\t Resultado de la RR: 4.003.\tResultado Expresión cerrada: 4.003.\n"
          ]
        }
      ]
    }
  ]
}